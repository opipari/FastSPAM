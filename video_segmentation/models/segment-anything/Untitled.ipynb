{
 "cells": [
  {
   "cell_type": "code",
   "execution_count": 1,
   "id": "622cba47-0e92-48b9-b82e-801a4dd5a1b6",
   "metadata": {},
   "outputs": [],
   "source": [
    "import os\n",
    "import json\n",
    "import argparse\n",
    "\n",
    "import time\n",
    "from tqdm import tqdm\n",
    "import math\n",
    "\n",
    "from PIL import Image\n",
    "import numpy as np\n",
    "import torch\n",
    "\n",
    "from panopticapi.utils import id2rgb\n",
    "\n",
    "from MVPd.utils.MVPdataset import MVPDataset, MVPVideo, MVPdCategories, video_collate\n",
    "from MVPd.utils.MVPdHelpers import get_xy_depth, get_RT_inverse, get_pytorch3d_matrix, get_cameras, label_to_one_hot\n",
    "from visualize import masks_to_panomasks\n",
    "\n",
    "\n",
    "from segment_anything.modeling import Sam\n",
    "from segment_anything import sam_model_registry, SamAutomaticMaskGenerator, SamPredictor\n",
    "\n",
    "from video_panoptic_segmentation.metrics import utils as metric_utils"
   ]
  },
  {
   "cell_type": "code",
   "execution_count": 2,
   "id": "9ba9f91f-5523-40e5-9e82-63bf66ec4f1a",
   "metadata": {},
   "outputs": [],
   "source": [
    "model_type = \"vit_h\"\n",
    "sam_checkpoint = \"./segment-anything/checkpoints/sam_vit_h_4b8939.pth\"\n",
    "sam = sam_model_registry[model_type](checkpoint=sam_checkpoint)"
   ]
  },
  {
   "cell_type": "code",
   "execution_count": 3,
   "id": "507bacf8-3a5d-479a-8790-cfcbe52485aa",
   "metadata": {},
   "outputs": [
    {
     "data": {
      "text/plain": [
       "'RGB'"
      ]
     },
     "execution_count": 3,
     "metadata": {},
     "output_type": "execute_result"
    }
   ],
   "source": [
    "sam.image_format"
   ]
  },
  {
   "cell_type": "code",
   "execution_count": null,
   "id": "20a7f4e0-3dd0-434f-bf56-db0584bf94d7",
   "metadata": {},
   "outputs": [],
   "source": []
  }
 ],
 "metadata": {
  "kernelspec": {
   "display_name": "segment-anything",
   "language": "python",
   "name": "segment-anything"
  },
  "language_info": {
   "codemirror_mode": {
    "name": "ipython",
    "version": 3
   },
   "file_extension": ".py",
   "mimetype": "text/x-python",
   "name": "python",
   "nbconvert_exporter": "python",
   "pygments_lexer": "ipython3",
   "version": "3.8.10"
  }
 },
 "nbformat": 4,
 "nbformat_minor": 5
}
